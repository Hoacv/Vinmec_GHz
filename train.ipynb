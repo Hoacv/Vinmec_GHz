{
 "cells": [
  {
   "cell_type": "code",
   "execution_count": 1,
   "metadata": {},
   "outputs": [
    {
     "name": "stderr",
     "output_type": "stream",
     "text": [
      "/home/haiche/anaconda3/envs/haiche/lib/python3.11/site-packages/tqdm/auto.py:21: TqdmWarning: IProgress not found. Please update jupyter and ipywidgets. See https://ipywidgets.readthedocs.io/en/stable/user_install.html\n",
      "  from .autonotebook import tqdm as notebook_tqdm\n"
     ]
    },
    {
     "name": "stdout",
     "output_type": "stream",
     "text": [
      "torch.Size([1, 224, 224])\n"
     ]
    }
   ],
   "source": [
    "import os\n",
    "import torch  # PyTorch\n",
    "from monai.losses import DiceLoss  # MONAI loss function\n",
    "from monai.optimizers import Novograd  # MONAI optimizer\n",
    "from monai.networks.nets import UNet  # MONAI UNet model\n",
    "from monai.transforms import (\n",
    "    Compose,\n",
    "    LoadImage,\n",
    "    EnsureChannelFirst,\n",
    "    ScaleIntensity,\n",
    "    Resize,\n",
    "    ToTensor,\n",
    "    Lambda,\n",
    ")\n",
    "from monai.data import Dataset, DataLoader\n",
    "\n",
    "# Define paths\n",
    "data_dir = \"archive/ultrasound breast classification/train\"  # Update this path\n",
    "benign_dir = os.path.join(data_dir, \"benign\")\n",
    "malignant_dir = os.path.join(data_dir, \"malignant\")\n",
    "\n",
    "# Define transformations\n",
    "\n",
    "\n",
    "def rgb_to_grayscale(image):\n",
    "    if image.shape[0] == 3:  # If it's an RGB image\n",
    "        return torch.mean(image, dim=0, keepdim=True)\n",
    "    return image  # If it's already grayscale, return as is\n",
    "\n",
    "\n",
    "def create_label_mask(label, shape):\n",
    "    # Create a one-hot encoded mask\n",
    "    mask = torch.zeros((2, shape[0], shape[1]))\n",
    "    mask[label, :, :] = 1\n",
    "    return mask\n",
    "\n",
    "\n",
    "# Define image-only transformations\n",
    "image_transforms = Compose(\n",
    "    [\n",
    "        LoadImage(image_only=True),\n",
    "        EnsureChannelFirst(),\n",
    "        ScaleIntensity(),\n",
    "        Resize((224, 224)),\n",
    "        Lambda(rgb_to_grayscale),\n",
    "        ToTensor(),\n",
    "    ]\n",
    ")\n",
    "\n",
    "# Define the full transform that applies image transforms only to 'img' key\n",
    "transform = Compose(\n",
    "    [\n",
    "        Lambda(\n",
    "            lambda x: {\n",
    "                \"img\": image_transforms(x[\"img\"]),\n",
    "                \"label\": create_label_mask(x[\"label\"], (224, 224)),\n",
    "            }\n",
    "        )\n",
    "    ]\n",
    ")\n",
    "# Prepare the dataset\n",
    "images = []\n",
    "labels = []\n",
    "\n",
    "# Load benign images\n",
    "for filename in os.listdir(benign_dir):\n",
    "    if filename.endswith((\".png\", \".jpg\", \".jpeg\")):  # Add more formats if needed\n",
    "        images.append(os.path.join(benign_dir, filename))\n",
    "        labels.append(0)  # Label 0 for benign\n",
    "\n",
    "# Load malignant images\n",
    "for filename in os.listdir(malignant_dir):\n",
    "    if filename.endswith((\".png\", \".jpg\", \".jpeg\")):  # Add more formats if needed\n",
    "        images.append(os.path.join(malignant_dir, filename))\n",
    "        labels.append(1)  # Label 1 for malignant\n",
    "\n",
    "# Create a dataset\n",
    "dataset = Dataset(\n",
    "    data=[{\"img\": img, \"label\": label} for img, label in zip(images, labels)],\n",
    "    transform=transform,\n",
    ")\n",
    "\n",
    "# Create a DataLoader\n",
    "batch_size = 64  # Define your batch size\n",
    "data_loader = DataLoader(dataset, batch_size=batch_size, shuffle=True)\n",
    "\n",
    "for batch_data in data_loader:\n",
    "    # images, labels = batch_data['img'].to(device), batch_data['label'].to(device)\n",
    "    print(batch_data[\"img\"][0].shape)\n",
    "    break"
   ]
  },
  {
   "cell_type": "code",
   "execution_count": 2,
   "metadata": {},
   "outputs": [
    {
     "name": "stdout",
     "output_type": "stream",
     "text": [
      "Epoch 1/10, Loss: 0.6334448141210219\n",
      "Epoch 2/10, Loss: 0.6096904324550255\n",
      "Epoch 3/10, Loss: 0.5868818251525655\n",
      "Epoch 4/10, Loss: 0.5663891043148789\n"
     ]
    },
    {
     "ename": "KeyboardInterrupt",
     "evalue": "",
     "output_type": "error",
     "traceback": [
      "\u001b[0;31m---------------------------------------------------------------------------\u001b[0m",
      "\u001b[0;31mKeyboardInterrupt\u001b[0m                         Traceback (most recent call last)",
      "Cell \u001b[0;32mIn[2], line 28\u001b[0m\n\u001b[1;32m     26\u001b[0m     loss \u001b[38;5;241m=\u001b[39m loss_function(outputs, labels)\n\u001b[1;32m     27\u001b[0m     loss\u001b[38;5;241m.\u001b[39mbackward()\n\u001b[0;32m---> 28\u001b[0m     \u001b[43moptimizer\u001b[49m\u001b[38;5;241;43m.\u001b[39;49m\u001b[43mstep\u001b[49m\u001b[43m(\u001b[49m\u001b[43m)\u001b[49m\n\u001b[1;32m     30\u001b[0m     epoch_loss \u001b[38;5;241m+\u001b[39m\u001b[38;5;241m=\u001b[39m loss\u001b[38;5;241m.\u001b[39mitem()\n\u001b[1;32m     32\u001b[0m \u001b[38;5;28mprint\u001b[39m(\u001b[38;5;124mf\u001b[39m\u001b[38;5;124m\"\u001b[39m\u001b[38;5;124mEpoch \u001b[39m\u001b[38;5;132;01m{\u001b[39;00mepoch\u001b[38;5;250m \u001b[39m\u001b[38;5;241m+\u001b[39m\u001b[38;5;250m \u001b[39m\u001b[38;5;241m1\u001b[39m\u001b[38;5;132;01m}\u001b[39;00m\u001b[38;5;124m/\u001b[39m\u001b[38;5;132;01m{\u001b[39;00mnum_epochs\u001b[38;5;132;01m}\u001b[39;00m\u001b[38;5;124m, Loss: \u001b[39m\u001b[38;5;132;01m{\u001b[39;00mepoch_loss\u001b[38;5;250m \u001b[39m\u001b[38;5;241m/\u001b[39m\u001b[38;5;250m \u001b[39m\u001b[38;5;28mlen\u001b[39m(data_loader)\u001b[38;5;132;01m}\u001b[39;00m\u001b[38;5;124m\"\u001b[39m)\n",
      "File \u001b[0;32m~/anaconda3/envs/haiche/lib/python3.11/site-packages/torch/optim/optimizer.py:280\u001b[0m, in \u001b[0;36mOptimizer.profile_hook_step.<locals>.wrapper\u001b[0;34m(*args, **kwargs)\u001b[0m\n\u001b[1;32m    276\u001b[0m         \u001b[38;5;28;01melse\u001b[39;00m:\n\u001b[1;32m    277\u001b[0m             \u001b[38;5;28;01mraise\u001b[39;00m \u001b[38;5;167;01mRuntimeError\u001b[39;00m(\u001b[38;5;124mf\u001b[39m\u001b[38;5;124m\"\u001b[39m\u001b[38;5;132;01m{\u001b[39;00mfunc\u001b[38;5;132;01m}\u001b[39;00m\u001b[38;5;124m must return None or a tuple of (new_args, new_kwargs),\u001b[39m\u001b[38;5;124m\"\u001b[39m\n\u001b[1;32m    278\u001b[0m                                \u001b[38;5;124mf\u001b[39m\u001b[38;5;124m\"\u001b[39m\u001b[38;5;124mbut got \u001b[39m\u001b[38;5;132;01m{\u001b[39;00mresult\u001b[38;5;132;01m}\u001b[39;00m\u001b[38;5;124m.\u001b[39m\u001b[38;5;124m\"\u001b[39m)\n\u001b[0;32m--> 280\u001b[0m out \u001b[38;5;241m=\u001b[39m \u001b[43mfunc\u001b[49m\u001b[43m(\u001b[49m\u001b[38;5;241;43m*\u001b[39;49m\u001b[43margs\u001b[49m\u001b[43m,\u001b[49m\u001b[43m \u001b[49m\u001b[38;5;241;43m*\u001b[39;49m\u001b[38;5;241;43m*\u001b[39;49m\u001b[43mkwargs\u001b[49m\u001b[43m)\u001b[49m\n\u001b[1;32m    281\u001b[0m \u001b[38;5;28mself\u001b[39m\u001b[38;5;241m.\u001b[39m_optimizer_step_code()\n\u001b[1;32m    283\u001b[0m \u001b[38;5;66;03m# call optimizer step post hooks\u001b[39;00m\n",
      "File \u001b[0;32m~/anaconda3/envs/haiche/lib/python3.11/site-packages/monai/optimizers/novograd.py:117\u001b[0m, in \u001b[0;36mNovograd.step\u001b[0;34m(self, closure)\u001b[0m\n\u001b[1;32m    115\u001b[0m     exp_avg_sq\u001b[38;5;241m.\u001b[39mcopy_(norm)\n\u001b[1;32m    116\u001b[0m \u001b[38;5;28;01melse\u001b[39;00m:\n\u001b[0;32m--> 117\u001b[0m     \u001b[43mexp_avg_sq\u001b[49m\u001b[38;5;241;43m.\u001b[39;49m\u001b[43mmul_\u001b[49m\u001b[43m(\u001b[49m\u001b[43mbeta2\u001b[49m\u001b[43m)\u001b[49m\u001b[38;5;241;43m.\u001b[39;49m\u001b[43madd_\u001b[49m\u001b[43m(\u001b[49m\u001b[43mnorm\u001b[49m\u001b[43m,\u001b[49m\u001b[43m \u001b[49m\u001b[43malpha\u001b[49m\u001b[38;5;241;43m=\u001b[39;49m\u001b[38;5;241;43m1\u001b[39;49m\u001b[43m \u001b[49m\u001b[38;5;241;43m-\u001b[39;49m\u001b[43m \u001b[49m\u001b[43mbeta2\u001b[49m\u001b[43m)\u001b[49m\n\u001b[1;32m    119\u001b[0m \u001b[38;5;28;01mif\u001b[39;00m amsgrad:\n\u001b[1;32m    120\u001b[0m     \u001b[38;5;66;03m# Maintains the maximum of all 2nd moment running avg. till now\u001b[39;00m\n\u001b[1;32m    121\u001b[0m     torch\u001b[38;5;241m.\u001b[39mmax(max_exp_avg_sq, exp_avg_sq, out\u001b[38;5;241m=\u001b[39mmax_exp_avg_sq)\n",
      "\u001b[0;31mKeyboardInterrupt\u001b[0m: "
     ]
    }
   ],
   "source": [
    "model = UNet(\n",
    "    spatial_dims=2,  # Change to 3 if you have 3D data\n",
    "    in_channels=1,  # Change according to your data\n",
    "    out_channels=2,  # Change according to your number of classes\n",
    "    channels=(16, 32, 64, 128),\n",
    "    strides=(2, 2, 2),\n",
    "    num_res_units=2,\n",
    ")\n",
    "device = torch.device(\"cuda\" if torch.cuda.is_available() else \"cpu\")\n",
    "model.to(device)\n",
    "\n",
    "loss_function = DiceLoss(sigmoid=True)\n",
    "optimizer = Novograd(model.parameters(), lr=1e-4)\n",
    "\n",
    "# Define the number of epochs\n",
    "num_epochs = 10  # You can change this to any number you prefer\n",
    "\n",
    "for epoch in range(num_epochs):\n",
    "    model.train()\n",
    "    epoch_loss = 0\n",
    "    for batch_data in data_loader:\n",
    "        images, labels = batch_data['img'].to(device), batch_data['label'].to(device)\n",
    "\n",
    "        optimizer.zero_grad()\n",
    "        outputs = model(images)\n",
    "        loss = loss_function(outputs, labels)\n",
    "        loss.backward()\n",
    "        optimizer.step()\n",
    "\n",
    "        epoch_loss += loss.item()\n",
    "\n",
    "    print(f\"Epoch {epoch + 1}/{num_epochs}, Loss: {epoch_loss / len(data_loader)}\")"
   ]
  },
  {
   "cell_type": "code",
   "execution_count": 1,
   "metadata": {},
   "outputs": [],
   "source": [
    "from torchvision import transforms\n",
    "from torch.utils.data import DataLoader\n",
    "from torchvision.datasets import ImageFolder  # or your custom dataset"
   ]
  },
  {
   "cell_type": "code",
   "execution_count": 2,
   "metadata": {},
   "outputs": [],
   "source": [
    "transform = transforms.Compose([\n",
    "    transforms.Resize((224, 224)),\n",
    "    transforms.RandomHorizontalFlip(),\n",
    "    transforms.ToTensor(),\n",
    "    transforms.Normalize(mean=[0.485, 0.456, 0.406], std=[0.229, 0.224, 0.225])\n",
    "])"
   ]
  },
  {
   "cell_type": "code",
   "execution_count": null,
   "metadata": {},
   "outputs": [],
   "source": [
    "data_dir = 'archive/ultrasound breast classification/train/benign'  # Update this path\n",
    "dataset = ImageFolder(root=data_dir, transform=transform)"
   ]
  },
  {
   "cell_type": "code",
   "execution_count": null,
   "metadata": {},
   "outputs": [],
   "source": []
  }
 ],
 "metadata": {
  "kernelspec": {
   "display_name": "haiche",
   "language": "python",
   "name": "python3"
  },
  "language_info": {
   "codemirror_mode": {
    "name": "ipython",
    "version": 3
   },
   "file_extension": ".py",
   "mimetype": "text/x-python",
   "name": "python",
   "nbconvert_exporter": "python",
   "pygments_lexer": "ipython3",
   "version": "3.11.4"
  }
 },
 "nbformat": 4,
 "nbformat_minor": 2
}
